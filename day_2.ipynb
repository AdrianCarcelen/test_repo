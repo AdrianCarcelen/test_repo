{
 "cells": [
  {
   "cell_type": "markdown",
   "metadata": {},
   "source": [
    "# Linux bash comands"
   ]
  },
  {
   "cell_type": "code",
   "execution_count": null,
   "metadata": {},
   "outputs": [],
   "source": [
    "# ls -> the comand for show all the folders\n",
    "# cd -> to move into the diferent folders\n",
    "# pwd -> show your actual absolute route\n",
    "# man -> to show what the command its doing / help woth the comand instructions\n",
    "# find -> comand to fin with rekgular expresions all the files that you are searching for\n",
    "# grep -> for show all the import from the files \n",
    "# cntrl + l -> clear the comand line\n",
    "# touch -> for create empty text files\n",
    "# mkdir -> to create a new folders \n",
    "# tac/cat -> read the files txt\n",
    "# -(comand) -> for enter the aruguments to the comands"
   ]
  }
 ],
 "metadata": {
  "kernelspec": {
   "display_name": "Python 3",
   "language": "python",
   "name": "python3"
  },
  "language_info": {
   "name": "python",
   "version": "3.11.4"
  },
  "orig_nbformat": 4
 },
 "nbformat": 4,
 "nbformat_minor": 2
}
